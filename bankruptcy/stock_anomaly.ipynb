{
 "cells": [
  {
   "cell_type": "code",
   "execution_count": 1,
   "metadata": {},
   "outputs": [],
   "source": [
    "import pandas as pd\n",
    "import yfinance as yf\n",
    "from datetime import date, timedelta"
   ]
  },
  {
   "cell_type": "code",
   "execution_count": 2,
   "metadata": {},
   "outputs": [],
   "source": [
    "end_date = date.today().strftime(\"%Y-%m-%d\")\n",
    "start_date = (date.today() - timedelta(days=365)).strftime(\"%Y-%m-%d\")"
   ]
  },
  {
   "cell_type": "code",
   "execution_count": 6,
   "metadata": {},
   "outputs": [
    {
     "name": "stdout",
     "output_type": "stream",
     "text": [
      "✅ Found 503 tickers\n"
     ]
    },
    {
     "name": "stderr",
     "output_type": "stream",
     "text": [
      "\n",
      "2 Failed downloads:\n",
      "['BF.B']: YFPricesMissingError('possibly delisted; no price data found  (1d 2024-04-05 -> 2025-04-05)')\n",
      "['BRK.B']: YFTzMissingError('possibly delisted; no timezone found')\n"
     ]
    }
   ],
   "source": [
    "# list of stock tickers to download\n",
    "url = 'https://en.wikipedia.org/wiki/List_of_S%26P_500_companies'\n",
    "sp500_table = pd.read_html(url)[0]\n",
    "all_tickers = sp500_table['Symbol'].tolist()\n",
    "print(f\"✅ Found {len(all_tickers)} tickers\")\n",
    "\n",
    "data = yf.download(all_tickers, start=start_date, end=end_date, progress=False)"
   ]
  },
  {
   "cell_type": "code",
   "execution_count": 7,
   "metadata": {},
   "outputs": [
    {
     "name": "stderr",
     "output_type": "stream",
     "text": [
      "📡 Fetching ticker data: 100%|██████████| 9/9 [00:02<00:00,  4.31it/s]"
     ]
    },
    {
     "name": "stdout",
     "output_type": "stream",
     "text": [
      "\n",
      "✅ Sample Fetched Data:\n",
      "AAPL: {'marketCap': 2829863354368, 'currentRatio': 0.923, 'debtToEquity': 145.0, 'grossMargins': 0.46519002, 'totalRevenue': 395760009216}\n",
      "MSFT: {'marketCap': 2675043205120, 'currentRatio': 1.351, 'debtToEquity': 33.998, 'grossMargins': 0.69408995, 'totalRevenue': 261802000384}\n",
      "GOOGL: {'marketCap': 1786628538368, 'currentRatio': 1.837, 'debtToEquity': 8.655, 'grossMargins': 0.582, 'totalRevenue': 350018011136}\n"
     ]
    },
    {
     "name": "stderr",
     "output_type": "stream",
     "text": [
      "\n"
     ]
    }
   ],
   "source": [
    "import yfinance as yf\n",
    "from tqdm import tqdm\n",
    "\n",
    "# STEP 1: Define or load your original list of tickers\n",
    "original_tickers = [\n",
    "    'AAPL', 'MSFT', 'GOOGL', 'TSLA', 'AMZN', 'NVDA', 'META', 'BRK.B', 'BF.B'\n",
    "]\n",
    "\n",
    "# STEP 2: Convert problematic tickers\n",
    "def convert_ticker_yf(ticker):\n",
    "    return ticker.replace('.', '-')\n",
    "\n",
    "yf_tickers = [convert_ticker_yf(t) for t in original_tickers]\n",
    "\n",
    "# STEP 3: Fetch basic data from Yahoo Finance\n",
    "stock_data = {}\n",
    "failed_tickers = []\n",
    "\n",
    "for ticker in tqdm(yf_tickers, desc=\"📡 Fetching ticker data\"):\n",
    "    try:\n",
    "        info = yf.Ticker(ticker).info\n",
    "        stock_data[ticker] = {\n",
    "            'marketCap': info.get('marketCap'),\n",
    "            'currentRatio': info.get('currentRatio'),\n",
    "            'debtToEquity': info.get('debtToEquity'),\n",
    "            'grossMargins': info.get('grossMargins'),\n",
    "            'totalRevenue': info.get('totalRevenue'),\n",
    "        }\n",
    "    except Exception as e:\n",
    "        print(f\"⚠️ Error fetching {ticker}: {e}\")\n",
    "        failed_tickers.append(ticker)\n",
    "\n",
    "# STEP 4: Preview results\n",
    "print(\"\\n✅ Sample Fetched Data:\")\n",
    "for t, data in list(stock_data.items())[:3]:\n",
    "    print(f\"{t}: {data}\")\n",
    "\n",
    "if failed_tickers:\n",
    "    print(\"\\n🚫 Failed tickers:\", failed_tickers)"
   ]
  },
  {
   "cell_type": "code",
   "execution_count": 8,
   "metadata": {},
   "outputs": [
    {
     "name": "stderr",
     "output_type": "stream",
     "text": [
      "2025-04-05 18:23:32.763 WARNING streamlit.runtime.scriptrunner_utils.script_run_context: Thread 'MainThread': missing ScriptRunContext! This warning can be ignored when running in bare mode.\n",
      "2025-04-05 18:23:32.827 \n",
      "  \u001b[33m\u001b[1mWarning:\u001b[0m to view this Streamlit app on a browser, run it with the following\n",
      "  command:\n",
      "\n",
      "    streamlit run /Users/lakshmikrishnan/miniconda3/envs/bankruptcy-ai/lib/python3.10/site-packages/ipykernel_launcher.py [ARGUMENTS]\n",
      "2025-04-05 18:23:32.828 Thread 'MainThread': missing ScriptRunContext! This warning can be ignored when running in bare mode.\n",
      "2025-04-05 18:23:32.828 Thread 'MainThread': missing ScriptRunContext! This warning can be ignored when running in bare mode.\n",
      "2025-04-05 18:23:32.828 Thread 'MainThread': missing ScriptRunContext! This warning can be ignored when running in bare mode.\n",
      "2025-04-05 18:23:32.829 Thread 'MainThread': missing ScriptRunContext! This warning can be ignored when running in bare mode.\n",
      "2025-04-05 18:23:32.829 Thread 'MainThread': missing ScriptRunContext! This warning can be ignored when running in bare mode.\n",
      "2025-04-05 18:23:32.829 Session state does not function when running a script without `streamlit run`\n",
      "2025-04-05 18:23:32.830 Thread 'MainThread': missing ScriptRunContext! This warning can be ignored when running in bare mode.\n",
      "2025-04-05 18:23:32.830 Thread 'MainThread': missing ScriptRunContext! This warning can be ignored when running in bare mode.\n",
      "2025-04-05 18:23:32.831 Thread 'MainThread': missing ScriptRunContext! This warning can be ignored when running in bare mode.\n",
      "2025-04-05 18:23:32.831 Thread 'MainThread': missing ScriptRunContext! This warning can be ignored when running in bare mode.\n",
      "2025-04-05 18:23:32.831 Thread 'MainThread': missing ScriptRunContext! This warning can be ignored when running in bare mode.\n",
      "2025-04-05 18:23:32.832 Thread 'MainThread': missing ScriptRunContext! This warning can be ignored when running in bare mode.\n",
      "2025-04-05 18:23:32.832 Thread 'MainThread': missing ScriptRunContext! This warning can be ignored when running in bare mode.\n"
     ]
    }
   ],
   "source": [
    "# streamlit_app.py\n",
    "\n",
    "import streamlit as st\n",
    "import yfinance as yf\n",
    "import pandas as pd\n",
    "import joblib\n",
    "import numpy as np\n",
    "\n",
    "# Load your trained ML model and scaler\n",
    "model = joblib.load(\"bankruptcy_model.pkl\")\n",
    "scaler = joblib.load(\"scaler.pkl\")\n",
    "expected_features = joblib.load(\"features_list.pkl\")  # Must be saved during training\n",
    "\n",
    "# Your full list of 503 tickers\n",
    "# list of stock tickers to download\n",
    "url = 'https://en.wikipedia.org/wiki/List_of_S%26P_500_companies'\n",
    "sp500_table = pd.read_html(url)[0]\n",
    "all_tickers = sp500_table['Symbol'].tolist()\n",
    "\n",
    "st.title(\"📉 AI Bankruptcy Risk Predictor\")\n",
    "\n",
    "selected_ticker = st.selectbox(\"Choose a company:\", sorted(all_tickers))\n",
    "\n",
    "if st.button(\"🔍 Analyze Ticker\"):\n",
    "    try:\n",
    "        # Get latest stock info\n",
    "        yf_ticker = selected_ticker.replace(\".\", \"-\")\n",
    "        info = yf.Ticker(yf_ticker).info\n",
    "\n",
    "        # Map selected features to model input\n",
    "        feature_map = {\n",
    "            'ROA(C) before interest and depreciation before interest': info.get('returnOnAssets', 0),\n",
    "            'Operating Gross Margin': info.get('grossMargins', 0),\n",
    "            'Current Ratio': info.get('currentRatio', 0),\n",
    "            'Debt to Equity': info.get('debtToEquity', 0),\n",
    "            'Total Revenue': info.get('totalRevenue', 0),\n",
    "            # ... more mappings as needed\n",
    "        }\n",
    "\n",
    "        # Build feature vector\n",
    "        input_vector = [feature_map.get(feat, 0.0) for feat in expected_features]\n",
    "        X_input_scaled = scaler.transform([input_vector])\n",
    "\n",
    "        # Predict\n",
    "        pred = model.predict(X_input_scaled)[0]\n",
    "        prob = model.predict_proba(X_input_scaled)[0][1]\n",
    "\n",
    "        st.success(\"✅ Low Risk\" if pred == 0 else \"⚠️ High Risk\")\n",
    "        st.metric(label=\"📊 Bankruptcy Probability\", value=f\"{prob:.2%}\")\n",
    "\n",
    "    except Exception as e:\n",
    "        st.error(f\"Error fetching data for {selected_ticker}: {e}\")"
   ]
  },
  {
   "cell_type": "code",
   "execution_count": null,
   "metadata": {},
   "outputs": [
    {
     "name": "stdout",
     "output_type": "stream",
     "text": [
      "\n",
      "📦 Company #150\n",
      "🔎 Bankruptcy Risk Prediction: ✅ Low Risk\n",
      "📊 Risk Score: 0.00\n"
     ]
    },
    {
     "name": "stderr",
     "output_type": "stream",
     "text": [
      "/Users/lakshmikrishnan/miniconda3/envs/bankruptcy-ai/lib/python3.10/site-packages/sklearn/utils/validation.py:2739: UserWarning: X does not have valid feature names, but StandardScaler was fitted with feature names\n",
      "  warnings.warn(\n"
     ]
    }
   ],
   "source": [
    "import pandas as pd\n",
    "import numpy as np\n",
    "from sklearn.ensemble import RandomForestClassifier\n",
    "from sklearn.preprocessing import StandardScaler\n",
    "from sklearn.model_selection import train_test_split\n",
    "import joblib\n",
    "\n",
    "# -------------------------------\n",
    "# STEP 1: Load the dataset\n",
    "# -------------------------------\n",
    "df = pd.read_csv(\"data.csv\")  # Update path if needed\n",
    "X = df.drop(\"Bankrupt?\", axis=1)\n",
    "y = df[\"Bankrupt?\"]\n",
    "\n",
    "# -------------------------------\n",
    "# STEP 2: Train/test split\n",
    "# -------------------------------\n",
    "X_train, X_test, y_train, y_test = train_test_split(\n",
    "    X, y, test_size=0.2, random_state=42, stratify=y\n",
    ")\n",
    "\n",
    "# -------------------------------\n",
    "# STEP 3: Preprocessing\n",
    "# -------------------------------\n",
    "scaler = StandardScaler()\n",
    "X_train_scaled = scaler.fit_transform(X_train)\n",
    "X_test_scaled = scaler.transform(X_test)\n",
    "\n",
    "# Save for future use\n",
    "joblib.dump(scaler, \"scaler.pkl\")\n",
    "\n",
    "# -------------------------------\n",
    "# STEP 4: Train Model\n",
    "# -------------------------------\n",
    "model = RandomForestClassifier(random_state=42, class_weight=\"balanced\")\n",
    "model.fit(X_train_scaled, y_train)\n",
    "\n",
    "# Save model\n",
    "joblib.dump(model, \"bankruptcy_model.pkl\")\n",
    "\n",
    "# -------------------------------\n",
    "# STEP 5: Use a real row from data\n",
    "# -------------------------------\n",
    "# Let's say row 100\n",
    "sample_index = 150\n",
    "sample_features = X.iloc[sample_index].values.reshape(1, -1)\n",
    "sample_scaled = scaler.transform(sample_features)\n",
    "\n",
    "# -------------------------------\n",
    "# STEP 6: Predict\n",
    "# -------------------------------\n",
    "prediction = model.predict(sample_scaled)[0]\n",
    "prediction_prob = model.predict_proba(sample_scaled)[0][1]\n",
    "\n",
    "print(f\"\\n📦 Company #{sample_index}\")\n",
    "print(\"🔎 Bankruptcy Risk Prediction:\", \"⚠️ High Risk\" if prediction == 1 else \"✅ Low Risk\")\n",
    "print(f\"📊 Risk Score: {prediction_prob:.2f}\")"
   ]
  }
 ],
 "metadata": {
  "kernelspec": {
   "display_name": "bankruptcy-ai",
   "language": "python",
   "name": "python3"
  },
  "language_info": {
   "codemirror_mode": {
    "name": "ipython",
    "version": 3
   },
   "file_extension": ".py",
   "mimetype": "text/x-python",
   "name": "python",
   "nbconvert_exporter": "python",
   "pygments_lexer": "ipython3",
   "version": "3.10.13"
  }
 },
 "nbformat": 4,
 "nbformat_minor": 2
}
