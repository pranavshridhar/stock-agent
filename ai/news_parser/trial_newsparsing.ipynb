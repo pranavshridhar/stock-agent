{
 "cells": [
  {
   "cell_type": "code",
   "execution_count": null,
   "id": "58b5c18f",
   "metadata": {},
   "outputs": [],
   "source": [
    "from alpaca.data.historical import CryptoHistoricalDataClient\n",
    "\n",
    "# No keys required for crypto data\n",
    "client = CryptoHistoricalDataClient()\n"
   ]
  },
  {
   "cell_type": "code",
   "execution_count": null,
   "id": "068627fc",
   "metadata": {},
   "outputs": [],
   "source": [
    "import datetime\n",
    "from alpaca.data.historical import CryptoHistoricalDataClient\n",
    "from alpaca.data.requests import CryptoBarsRequest\n",
    "from alpaca.data.timeframe import TimeFrame\n",
    "\n",
    "# Initialize client (no API keys required for free data access)\n",
    "client = CryptoHistoricalDataClient()\n",
    "\n",
    "# Create request parameters\n",
    "request_params = CryptoBarsRequest(\n",
    "    symbol_or_symbols=[\"BTC/USD\"],\n",
    "    timeframe=TimeFrame.Day,\n",
    "    start=datetime.datetime(2022, 9, 1),\n",
    "    end=datetime.datetime(2022, 9, 7)\n",
    ")\n",
    "\n",
    "# Fetch the data\n",
    "bars = client.get_crypto_bars(request_params)\n",
    "\n",
    "# View the result\n",
    "for bar in bars.data[\"BTC/USD\"]:\n",
    "    print(bar)\n"
   ]
  },
  {
   "cell_type": "code",
   "execution_count": null,
   "id": "dfcf59d6",
   "metadata": {},
   "outputs": [],
   "source": [
    "import requests\n",
    "import json\n",
    "\n",
    "url = \"https://data.alpaca.markets/v1beta1/news?sort=desc&symbols=AAPL&limit=10&include_content=true\"\n",
    "\n",
    "headers = {\n",
    "    \"accept\": \"application/json\",\n",
    "    \"APCA-API-KEY-ID\": \"PKKQXXPHKK9FRQ51RKYX\",\n",
    "    \"APCA-API-SECRET-KEY\": \"IzGx5regkeC0eiJKbKhUGJztlLpU2SM6BAh1Btwt\"\n",
    "}\n",
    "\n",
    "response = requests.get(url, headers=headers)\n",
    "\n",
    "\n",
    "articles = json.loads(response.text)"
   ]
  },
  {
   "cell_type": "code",
   "execution_count": null,
   "id": "b0db9907",
   "metadata": {},
   "outputs": [],
   "source": [
    "import torch\n",
    "\n",
    "print(\"CUDA available:\", torch.cuda.is_available())\n",
    "print(\"Device name:\", torch.cuda.get_device_name(0) if torch.cuda.is_available() else \"No GPU found\")\n",
    "print(torch.__version__)\n",
    "print(torch.version.cuda)\n",
    "\n"
   ]
  },
  {
   "cell_type": "code",
   "execution_count": null,
   "id": "12b40fb7",
   "metadata": {},
   "outputs": [],
   "source": [
    "from transformers import AutoTokenizer, AutoModelForSequenceClassification, pipeline\n",
    "import torch\n",
    "\n",
    "device = 0 if torch.cuda.is_available() else -1\n",
    "\n",
    "tokenizer = AutoTokenizer.from_pretrained(\"ProsusAI/finbert\")\n",
    "model = AutoModelForSequenceClassification.from_pretrained(\"ProsusAI/finbert\").to(device)\n",
    "finbert = pipeline(\"sentiment-analysis\", model=model, tokenizer=tokenizer, device=device)\n",
    "\n",
    "result = finbert(\"Apple schedules Q2 earnings call for April 25.\")\n",
    "print(result)\n"
   ]
  },
  {
   "cell_type": "code",
   "execution_count": null,
   "id": "6e9e5021",
   "metadata": {},
   "outputs": [],
   "source": [
    "articles[\"news\"]"
   ]
  },
  {
   "cell_type": "code",
   "execution_count": null,
   "id": "567b561f",
   "metadata": {},
   "outputs": [],
   "source": [
    "import html\n",
    "for article in articles[\"news\"]:\n",
    "    headline = html.unescape(article['headline'])\n",
    "    summary = html.unescape(article[\"summary\"])\n",
    "    result = finbert(summary)\n",
    "    symbols = article[\"symbols\"]\n",
    "\n",
    "    print(f\"Title: {headline}\")\n",
    "    print(summary)\n",
    "    print(result)\n",
    "    print(symbols)\n",
    "\n",
    "\n",
    "    print()\n"
   ]
  }
 ],
 "metadata": {
  "kernelspec": {
   "display_name": "hackstock",
   "language": "python",
   "name": "python3"
  },
  "language_info": {
   "codemirror_mode": {
    "name": "ipython",
    "version": 3
   },
   "file_extension": ".py",
   "mimetype": "text/x-python",
   "name": "python",
   "nbconvert_exporter": "python",
   "pygments_lexer": "ipython3",
   "version": "3.10.16"
  }
 },
 "nbformat": 4,
 "nbformat_minor": 5
}
